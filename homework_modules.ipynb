{
 "cells": [
  {
   "cell_type": "code",
   "execution_count": 11,
   "metadata": {
    "id": "3MeKai5Xj6eX"
   },
   "outputs": [],
   "source": [
    "import numpy as np"
   ]
  },
  {
   "cell_type": "markdown",
   "metadata": {
    "id": "wwlFrG-Tj6eY"
   },
   "source": [
    "**Module** is an abstract class which defines fundamental methods necessary for a training a neural network. You do not need to change anything here, just read the comments."
   ]
  },
  {
   "cell_type": "code",
   "execution_count": 15,
   "metadata": {
    "id": "W8BLmtZ3j6eZ"
   },
   "outputs": [],
   "source": [
    "class Module(object):\n",
    "    \"\"\"\n",
    "    Basically, you can think of a module as of a something (black box)\n",
    "    which can process `input` data and produce `ouput` data.\n",
    "    This is like applying a function which is called `forward`:\n",
    "\n",
    "        output = module.forward(input)\n",
    "\n",
    "    The module should be able to perform a backward pass: to differentiate the `forward` function.\n",
    "    More, it should be able to differentiate it if is a part of chain (chain rule).\n",
    "    The latter implies there is a gradient from previous step of a chain rule.\n",
    "\n",
    "        gradInput = module.backward(input, gradOutput)\n",
    "    \"\"\"\n",
    "    def __init__ (self):\n",
    "        self.output = None\n",
    "        self.gradInput = None\n",
    "        self.training = True\n",
    "\n",
    "    def forward(self, input):\n",
    "        \"\"\"\n",
    "        Takes an input object, and computes the corresponding output of the module.\n",
    "        \"\"\"\n",
    "        return self.updateOutput(input)\n",
    "\n",
    "    def backward(self,input, gradOutput):\n",
    "        \"\"\"\n",
    "        Performs a backpropagation step through the module, with respect to the given input.\n",
    "\n",
    "        This includes\n",
    "         - computing a gradient w.r.t. `input` (is needed for further backprop),\n",
    "         - computing a gradient w.r.t. parameters (to update parameters while optimizing).\n",
    "        \"\"\"\n",
    "        self.updateGradInput(input, gradOutput)\n",
    "        self.accGradParameters(input, gradOutput)\n",
    "        return self.gradInput\n",
    "\n",
    "\n",
    "    def updateOutput(self, input):\n",
    "        \"\"\"\n",
    "        Computes the output using the current parameter set of the class and input.\n",
    "        This function returns the result which is stored in the `output` field.\n",
    "\n",
    "        Make sure to both store the data in `output` field and return it.\n",
    "\n",
    "        Вычисляет выход, используя текущий набор параметров класса и входные данные.\n",
    "        Функция возвращает результат, который хранится в поле `output`.\n",
    "\n",
    "        Убедитесь, что данные хранятся в поле `output` и возвращаются.\n",
    "        \"\"\"\n",
    "\n",
    "        # The easiest case:\n",
    "\n",
    "        # self.output = input\n",
    "        # return self.output\n",
    "\n",
    "        pass\n",
    "\n",
    "    def updateGradInput(self, input, gradOutput):\n",
    "        \"\"\"\n",
    "        Computing the gradient of the module with respect to its own input.\n",
    "        This is returned in `gradInput`. Also, the `gradInput` state variable is updated accordingly.\n",
    "\n",
    "        The shape of `gradInput` is always the same as the shape of `input`.\n",
    "\n",
    "        Make sure to both store the gradients in `gradInput` field and return it.\n",
    "\n",
    "        Вычисление градиента модуля по отношению к его собственному входу.\n",
    "        Это значение возвращается в `gradInput`. Также соответствующим образом обновляется переменная состояния `gradInput`.\n",
    "\n",
    "        Форма `gradInput` всегда такая же, как и форма `input`.\n",
    "\n",
    "        Убедитесь, что градиенты как хранятся в поле `gradInput`, так и возвращаются.\n",
    "        \"\"\"\n",
    "\n",
    "        # The easiest case:\n",
    "\n",
    "        # self.gradInput = gradOutput\n",
    "        # return self.gradInput\n",
    "\n",
    "        pass\n",
    "\n",
    "    def accGradParameters(self, input, gradOutput):\n",
    "        \"\"\"\n",
    "        Computing the gradient of the module with respect to its own parameters.\n",
    "        No need to override if module has no parameters (e.g. ReLU).\n",
    "\n",
    "        Вычисление градиента модуля относительно его собственных параметров.\n",
    "        Не нужно переопределять, если у модуля нет параметров (например, ReLU).\n",
    "        \"\"\"\n",
    "        pass\n",
    "\n",
    "    def zeroGradParameters(self):\n",
    "        \"\"\"\n",
    "        Zeroes `gradParams` variable if the module has params.\n",
    "        \"\"\"\n",
    "        pass\n",
    "\n",
    "    def getParameters(self):\n",
    "        \"\"\"\n",
    "        Returns a list with its parameters.\n",
    "        If the module does not have parameters return empty list.\n",
    "        \"\"\"\n",
    "        return []\n",
    "\n",
    "    def getGradParameters(self):\n",
    "        \"\"\"\n",
    "        Returns a list with gradients with respect to its parameters.\n",
    "        If the module does not have parameters return empty list.\n",
    "        \"\"\"\n",
    "        return []\n",
    "\n",
    "    def train(self):\n",
    "        \"\"\"\n",
    "        Sets training mode for the module.\n",
    "        Training and testing behaviour differs for Dropout, BatchNorm.\n",
    "        \"\"\"\n",
    "        self.training = True\n",
    "\n",
    "    def evaluate(self):\n",
    "        \"\"\"\n",
    "        Sets evaluation mode for the module.\n",
    "        Training and testing behaviour differs for Dropout, BatchNorm.\n",
    "        \"\"\"\n",
    "        self.training = False\n",
    "\n",
    "    def __repr__(self):\n",
    "        \"\"\"\n",
    "        Pretty printing. Should be overrided in every module if you want\n",
    "        to have readable description.\n",
    "        \"\"\"\n",
    "        return \"Module\""
   ]
  },
  {
   "cell_type": "markdown",
   "metadata": {
    "id": "mKRkIjT8j6eZ"
   },
   "source": [
    "# Sequential container"
   ]
  },
  {
   "cell_type": "markdown",
   "metadata": {
    "id": "Cb98PPpJj6ea"
   },
   "source": [
    "**Define** a forward and backward pass procedures."
   ]
  },
  {
   "cell_type": "code",
   "execution_count": 296,
   "metadata": {
    "id": "7y2lav4dj6ea"
   },
   "outputs": [],
   "source": [
    "class Sequential(Module):\n",
    "    \"\"\"\n",
    "         This class implements a container, which processes `input` data sequentially.\n",
    "\n",
    "         `input` is processed by each module (layer) in self.modules consecutively.\n",
    "         The resulting array is called `output`.\n",
    "    \"\"\"\n",
    "\n",
    "    def __init__ (self):\n",
    "        super(Sequential, self).__init__()\n",
    "        self.modules = []\n",
    "        self.y = []\n",
    "\n",
    "    def add(self, module):\n",
    "        \"\"\"\n",
    "        Adds a module to the container.\n",
    "        \"\"\"\n",
    "        self.modules.append(module)\n",
    "\n",
    "    def updateOutput(self, input):\n",
    "        \"\"\"\n",
    "        Basic workflow of FORWARD PASS:\n",
    "\n",
    "            y_0    = module[0].forward(input)\n",
    "            y_1    = module[1].forward(y_0)\n",
    "            ...\n",
    "            output = module[n-1].forward(y_{n-2})\n",
    "\n",
    "\n",
    "        Just write a little loop.\n",
    "        \"\"\"\n",
    "\n",
    "        # Your code goes here. ################################################\n",
    "        self.y = []\n",
    "        self.y.append(input)\n",
    "        for i in range(len(self.modules)):\n",
    "            self.y.append(self.modules[i].forward(self.y[i]))\n",
    "\n",
    "        self.output = self.y[-1] \n",
    "        \n",
    "        return self.output\n",
    "\n",
    "    def backward(self, input, gradOutput):\n",
    "        \"\"\"\n",
    "        Workflow of BACKWARD PASS:\n",
    "\n",
    "            g_{n-1} = module[n-1].backward(y_{n-2}, gradOutput)\n",
    "            g_{n-2} = module[n-2].backward(y_{n-3}, g_{n-1})\n",
    "            ...\n",
    "            g_1 = module[1].backward(y_0, g_2)\n",
    "            gradInput = module[0].backward(input, g_1)\n",
    "\n",
    "\n",
    "        !!!\n",
    "\n",
    "        To ech module you need to provide the input, module saw while forward pass,\n",
    "        it is used while computing gradients.\n",
    "        Make sure that the input for `i-th` layer the output of `module[i]` (just the same input as in forward pass)\n",
    "        and NOT `input` to this Sequential module.\n",
    "\n",
    "        !!!\n",
    "\n",
    "        \"\"\"\n",
    "        # Your code goes here. ################################################\n",
    "        g = [None] * len(self.modules)\n",
    "        g.append(gradOutput) # <--- gradOutput - это g_n\n",
    "        for i in range(len(self.modules) - 1, -1, -1):\n",
    "            g[i] = self.modules[i].backward(self.y[i], g[i+1])\n",
    "\n",
    "        self.gradInput = g[0]\n",
    "\n",
    "            \n",
    "        return self.gradInput\n",
    "\n",
    "\n",
    "    def zeroGradParameters(self):\n",
    "        for module in self.modules:\n",
    "            module.zeroGradParameters()\n",
    "\n",
    "    def getParameters(self):\n",
    "        \"\"\"\n",
    "        Should gather all parameters in a list.\n",
    "        \"\"\"\n",
    "        return [x.getParameters() for x in self.modules]\n",
    "\n",
    "    def getGradParameters(self):\n",
    "        \"\"\"\n",
    "        Should gather all gradients w.r.t parameters in a list.\n",
    "        \"\"\"\n",
    "        return [x.getGradParameters() for x in self.modules]\n",
    "\n",
    "    def __repr__(self):\n",
    "        string = \"\".join([str(x) + '\\n' for x in self.modules])\n",
    "        return string\n",
    "\n",
    "    def __getitem__(self,x):\n",
    "        return self.modules.__getitem__(x)\n",
    "\n",
    "    def train(self):\n",
    "        \"\"\"\n",
    "        Propagates training parameter through all modules\n",
    "        \"\"\"\n",
    "        self.training = True\n",
    "        for module in self.modules:\n",
    "            module.train()\n",
    "\n",
    "    def evaluate(self):\n",
    "        \"\"\"\n",
    "        Propagates training parameter through all modules\n",
    "        \"\"\"\n",
    "        self.training = False\n",
    "        for module in self.modules:\n",
    "            module.evaluate()"
   ]
  },
  {
   "cell_type": "markdown",
   "metadata": {
    "id": "zfXdYfO4j6ea"
   },
   "source": [
    "# Layers"
   ]
  },
  {
   "cell_type": "markdown",
   "metadata": {
    "id": "ZuwvBkuNj6ea"
   },
   "source": [
    "## 1 (0.2). Linear transform layer\n",
    "Also known as dense layer, fully-connected layer, FC-layer, InnerProductLayer (in caffe), affine transform\n",
    "- input:   **`batch_size x n_feats1`**\n",
    "- output: **`batch_size x n_feats2`**"
   ]
  },
  {
   "cell_type": "code",
   "execution_count": 17,
   "metadata": {
    "id": "D0uoyqkpj6ea"
   },
   "outputs": [],
   "source": [
    "class Linear(Module):\n",
    "    \"\"\"\n",
    "    A module which applies a linear transformation\n",
    "    A common name is fully-connected layer, InnerProductLayer in caffe.\n",
    "\n",
    "    The module should work with 2D input of shape (n_samples, n_feature).\n",
    "\n",
    "    Модуль, применяющий линейное преобразование.\n",
    "    Общее название - полностью связанный слой, InnerProductLayer в caffe.\n",
    "\n",
    "    Модуль должен работать с 2D входными данными формы (n_samples, n_feature).\n",
    "    \"\"\"\n",
    "    def __init__(self, n_in, n_out):\n",
    "        super(Linear, self).__init__()\n",
    "\n",
    "        # This is a nice initialization  \n",
    "        stdv = 1./np.sqrt(n_in)\n",
    "        self.W = np.random.uniform(-stdv, stdv, size = (n_out, n_in)) #иницилизация весов\n",
    "        self.b = np.random.uniform(-stdv, stdv, size = n_out) #иницилизация смещения\n",
    "\n",
    "        self.gradW = np.zeros_like(self.W) #иницилизация градиента весов\n",
    "        self.gradb = np.zeros_like(self.b) #иницилизация градиента смещений\n",
    "\n",
    "    def updateOutput(self, input): #выход слоя\n",
    "        # Your code goes here. ################################################\n",
    "        self.output = np.dot(input, self.W.T) + self.b #y=X*W.T+b\n",
    "        return self.output\n",
    "\n",
    "    def updateGradInput(self, input, gradOutput): #градиент входа, цепное правило\n",
    "        # Your code goes here. ################################################\n",
    "        self.gradInput = np.dot(gradOutput, self.W) #GradInput=gradOutput*W\n",
    "        return self.gradInput\n",
    "\n",
    "    def accGradParameters(self, input, gradOutput): #накапливает градиенты весов и смещений\n",
    "        # Your code goes here. ################################################\n",
    "        self.gradW = np.dot(gradOutput.T, input); \n",
    "        self.gradb = np.sum(gradOutput, axis=0)\n",
    "        pass\n",
    "\n",
    "    def zeroGradParameters(self):\n",
    "        self.gradW.fill(0)\n",
    "        self.gradb.fill(0)\n",
    "\n",
    "    def getParameters(self):\n",
    "        return [self.W, self.b]\n",
    "\n",
    "    def getGradParameters(self):\n",
    "        return [self.gradW, self.gradb]\n",
    "\n",
    "    def __repr__(self):\n",
    "        s = self.W.shape\n",
    "        q = 'Linear %d -> %d' %(s[1],s[0])\n",
    "        return q"
   ]
  },
  {
   "cell_type": "markdown",
   "metadata": {
    "id": "tNOnHXZJj6eb"
   },
   "source": [
    "## 2. (0.2) SoftMax\n",
    "- input:   **`batch_size x n_feats`**\n",
    "- output: **`batch_size x n_feats`**\n",
    "\n",
    "$\\text{softmax}(x)_i = \\frac{\\exp x_i} {\\sum_j \\exp x_j}$\n",
    "\n",
    "Recall that $\\text{softmax}(x) == \\text{softmax}(x - \\text{const})$. It makes possible to avoid computing exp() from large argument."
   ]
  },
  {
   "cell_type": "code",
   "execution_count": 145,
   "metadata": {
    "id": "VIValI0hj6eb"
   },
   "outputs": [],
   "source": [
    "class SoftMax(Module):\n",
    "    def __init__(self):\n",
    "         super(SoftMax, self).__init__()\n",
    "\n",
    "    def updateOutput(self, input):\n",
    "        # start with normalization for numerical stability\n",
    "        self.output = np.subtract(input, input.max(axis=1, keepdims=True)) #- макс значение\n",
    "        \n",
    "        # Your code goes here. ################################################\n",
    "        exp_values = np.exp(self.output)\n",
    "        self.output = exp_values / np.sum(exp_values, axis=1, keepdims=True)\n",
    "        return self.output\n",
    "\n",
    "    def updateGradInput(self, input, gradOutput):\n",
    "        # Your code goes here. ################################################\n",
    "        self.gradInput = self.output * (gradOutput - np.sum(gradOutput * self.output, axis=1, keepdims=True))\n",
    "        return self.gradInput\n",
    "\n",
    "    def __repr__(self):\n",
    "        return \"SoftMax\""
   ]
  },
  {
   "cell_type": "markdown",
   "metadata": {
    "id": "Cy3DJjynj6eb"
   },
   "source": [
    "## 3. (0.2) LogSoftMax\n",
    "- input:   **`batch_size x n_feats`**\n",
    "- output: **`batch_size x n_feats`**\n",
    "\n",
    "$\\text{logsoftmax}(x)_i = \\log\\text{softmax}(x)_i = x_i - \\log {\\sum_j \\exp x_j}$\n",
    "\n",
    "The main goal of this layer is to be used in computation of log-likelihood loss."
   ]
  },
  {
   "cell_type": "code",
   "execution_count": 379,
   "metadata": {
    "id": "Xo7DRdAJj6eb"
   },
   "outputs": [],
   "source": [
    "class LogSoftMax(Module):\n",
    "    def __init__(self):\n",
    "         super(LogSoftMax, self).__init__()\n",
    "\n",
    "    def updateOutput(self, input):\n",
    "        # start with normalization for numerical stability\n",
    "        self.output = np.subtract(input, input.max(axis=1, keepdims=True))\n",
    "\n",
    "        # Your code goes here. ################################################\n",
    "        self.output = self.output - np.log(np.sum(np.exp(self.output), axis=1, keepdims=True))\n",
    "        return self.output\n",
    "\n",
    "    def updateGradInput(self, input, gradOutput):\n",
    "        # Your code goes here. ################################################\n",
    "        softmax = np.exp(input - input.max(axis=1, keepdims=True)) / np.sum(np.exp(input - input.max(axis=1, keepdims=True)), axis=1, keepdims=True)\n",
    "        self.gradInput = gradOutput - softmax * np.sum(gradOutput, axis=1, keepdims=True)\n",
    "        return self.gradInput\n",
    "\n",
    "    def __repr__(self):\n",
    "        return \"LogSoftMax\""
   ]
  },
  {
   "cell_type": "markdown",
   "metadata": {
    "id": "QP5QdmmPj6eb"
   },
   "source": [
    "## 4. (0.3) Batch normalization\n",
    "One of the most significant recent ideas that impacted NNs a lot is [**Batch normalization**](http://arxiv.org/abs/1502.03167). The idea is simple, yet effective: the features should be whitened ($mean = 0$, $std = 1$) all the way through NN. This improves the convergence for deep models letting it train them for days but not weeks. **You are** to implement the first part of the layer: features normalization. The second part (`ChannelwiseScaling` layer) is implemented below.\n",
    "\n",
    "- input:   **`batch_size x n_feats`**\n",
    "- output: **`batch_size x n_feats`**\n",
    "\n",
    "The layer should work as follows. While training (`self.training == True`) it transforms input as $$y = \\frac{x - \\mu}  {\\sqrt{\\sigma + \\epsilon}}$$\n",
    "where $\\mu$ and $\\sigma$ - mean and variance of feature values in **batch** and $\\epsilon$ is just a small number for numericall stability. Also during training, layer should maintain exponential moving average values for mean and variance:\n",
    "```\n",
    "    self.moving_mean = self.moving_mean * alpha + batch_mean * (1 - alpha)\n",
    "    self.moving_variance = self.moving_variance * alpha + batch_variance * (1 - alpha)\n",
    "```\n",
    "During testing (`self.training == False`) the layer normalizes input using moving_mean and moving_variance.\n",
    "\n",
    "Note that decomposition of batch normalization on normalization itself and channelwise scaling here is just a common **implementation** choice. In general \"batch normalization\" always assumes normalization + scaling."
   ]
  },
  {
   "cell_type": "markdown",
   "metadata": {},
   "source": [
    "$$\n",
    "\\begin{aligned}\n",
    "gradInput = & \\frac{gradOutput}{\\sqrt{\\sigma^2 + \\epsilon}} - \\frac{1}{m} \\sum_{i=1}^{m} \\frac{gradOutput_i}{\\sqrt{\\sigma^2 + \\epsilon}} - \\frac{x - \\mu}{(\\sigma^2 + \\epsilon)^{3/2}} \\cdot \\frac{\\sum_{i=1}^{m} gradOutput_i \\cdot (x_i - \\mu)}{m}\n",
    "\\end{aligned}\n",
    "$$"
   ]
  },
  {
   "cell_type": "code",
   "execution_count": 45,
   "metadata": {
    "id": "fGTTDqVgj6eb"
   },
   "outputs": [],
   "source": [
    "class BatchNormalization(Module):\n",
    "    EPS = 1e-3\n",
    "    def __init__(self, alpha = 0.):\n",
    "        super(BatchNormalization, self).__init__()\n",
    "        self.alpha = alpha\n",
    "        self.moving_mean = None\n",
    "        self.moving_variance = None\n",
    "\n",
    "    def updateOutput(self, input):\n",
    "        # Your code goes here. ################################################\n",
    "        if self.training == True:\n",
    "            batch_mean = np.mean(input, axis=0)\n",
    "            batch_variance = np.var(input, axis=0)\n",
    "\n",
    "            if self.moving_mean is None:\n",
    "                self.moving_mean = batch_mean\n",
    "                self.moving_variance = batch_variance\n",
    "            else:\n",
    "                self.moving_mean = self.moving_mean * self.alpha + batch_mean * (1 - self.alpha)\n",
    "                self.moving_variance = self.moving_variance * self.alpha + batch_variance * (1 - self.alpha)\n",
    "\n",
    "            self.output = (input - batch_mean) / np.sqrt(batch_variance + self.EPS)\n",
    "        else:\n",
    "            self.output = (input - self.moving_mean) / np.sqrt(self.moving_variance + self.EPS)\n",
    "        return self.output\n",
    "\n",
    "    def updateGradInput(self, input, gradOutput):\n",
    "        # Your code goes here. ################################################\n",
    "        if self.training == True:\n",
    "            batch_mean = np.mean(input, axis=0)\n",
    "            batch_variance = np.var(input, axis=0)\n",
    "            self.gradInput = gradOutput * (batch_variance + self.EPS)**(-0.5) - \\\n",
    "                               np.mean(gradOutput * (batch_variance + self.EPS)**(-0.5), axis=0) - \\\n",
    "                               (input - batch_mean) * (batch_variance + self.EPS)**(-1.5) * np.mean(gradOutput * (input - batch_mean), axis=0)\n",
    "        else:\n",
    "            self.gradInput = gradOutput / np.sqrt(self.moving_variance + self.EPS)\n",
    "        return self.gradInput\n",
    "\n",
    "    def __repr__(self):\n",
    "        return \"BatchNormalization\""
   ]
  },
  {
   "cell_type": "code",
   "execution_count": 164,
   "metadata": {
    "id": "8XUS3Lt-j6eb"
   },
   "outputs": [],
   "source": [
    "class ChannelwiseScaling(Module):\n",
    "    \"\"\"\n",
    "       Implements linear transform of input y = gamma * x + beta\n",
    "       where gamma, beta - learnable vectors of length x.shape[-1]\n",
    "    \"\"\"\n",
    "    def __init__(self, n_out):\n",
    "        super(ChannelwiseScaling, self).__init__()\n",
    "\n",
    "        stdv = 1./np.sqrt(n_out)\n",
    "        self.gamma = np.random.uniform(-stdv, stdv, size=n_out)\n",
    "        self.beta = np.random.uniform(-stdv, stdv, size=n_out)\n",
    "\n",
    "        self.gradGamma = np.zeros_like(self.gamma)\n",
    "        self.gradBeta = np.zeros_like(self.beta)\n",
    "\n",
    "    def updateOutput(self, input):\n",
    "        self.output = input * self.gamma + self.beta\n",
    "        return self.output\n",
    "\n",
    "    def updateGradInput(self, input, gradOutput):\n",
    "        self.gradInput = gradOutput * self.gamma\n",
    "        return self.gradInput\n",
    "\n",
    "    def accGradParameters(self, input, gradOutput):\n",
    "        self.gradBeta = np.sum(gradOutput, axis=0)\n",
    "        self.gradGamma = np.sum(gradOutput*input, axis=0)\n",
    "\n",
    "    def zeroGradParameters(self):\n",
    "        self.gradGamma.fill(0)\n",
    "        self.gradBeta.fill(0)\n",
    "\n",
    "    def getParameters(self):\n",
    "        return [self.gamma, self.beta]\n",
    "\n",
    "    def getGradParameters(self):\n",
    "        return [self.gradGamma, self.gradBeta]\n",
    "\n",
    "    def __repr__(self):\n",
    "        return \"ChannelwiseScaling\""
   ]
  },
  {
   "cell_type": "markdown",
   "metadata": {
    "id": "vA5zjM3jj6eb"
   },
   "source": [
    "Practical notes. If BatchNormalization is placed after a linear transformation layer (including dense layer, convolutions, channelwise scaling) that implements function like `y = weight * x + bias`, than bias adding become useless and could be omitted since its effect will be discarded while batch mean subtraction. If BatchNormalization (followed by `ChannelwiseScaling`) is placed before a layer that propagates scale (including ReLU, LeakyReLU) followed by any linear transformation layer than parameter `gamma` in `ChannelwiseScaling` could be freezed since it could be absorbed into the linear transformation layer."
   ]
  },
  {
   "cell_type": "markdown",
   "metadata": {
    "id": "Gackeo1cj6eb"
   },
   "source": [
    "## 5. (0.3) Dropout\n",
    "Implement [**dropout**](https://www.cs.toronto.edu/~hinton/absps/JMLRdropout.pdf). The idea and implementation is really simple: just multimply the input by $Bernoulli(p)$ mask. Here $p$ is probability of an element to be zeroed.\n",
    "\n",
    "This has proven to be an effective technique for regularization and preventing the co-adaptation of neurons.\n",
    "\n",
    "While training (`self.training == True`) it should sample a mask on each iteration (for every batch), zero out elements and multiply elements by $1 / (1 - p)$. The latter is needed for keeping mean values of features close to mean values which will be in test mode. When testing this module should implement identity transform i.e. `self.output = input`.\n",
    "\n",
    "- input:   **`batch_size x n_feats`**\n",
    "- output: **`batch_size x n_feats`**"
   ]
  },
  {
   "cell_type": "code",
   "execution_count": 178,
   "metadata": {
    "id": "NmLQV3jXj6eb"
   },
   "outputs": [],
   "source": [
    "class Dropout(Module):\n",
    "    def __init__(self, p=0.5):\n",
    "        super(Dropout, self).__init__()\n",
    "\n",
    "        self.p = p\n",
    "        self.mask = None\n",
    "\n",
    "    def updateOutput(self, input):\n",
    "        # Your code goes here. ################################################\n",
    "        if self.training == True:\n",
    "            self.mask = np.random.binomial(1, 1 - self.p, size=input.shape) #матрица из 0 и 1\n",
    "            self.output = input * self.mask / (1 - self.p)\n",
    "        else:\n",
    "            self.output = input\n",
    "        return  self.output\n",
    "\n",
    "    def updateGradInput(self, input, gradOutput):\n",
    "        # Your code goes here. ################################################\n",
    "        if self.training == True:\n",
    "            self.gradInput = gradOutput * self.mask / (1 - self.p)\n",
    "        else:\n",
    "            self.gradInput = gradOutput\n",
    "        return self.gradInput\n",
    "\n",
    "    def __repr__(self):\n",
    "        return \"Dropout\""
   ]
  },
  {
   "cell_type": "markdown",
   "metadata": {
    "id": "-WHGIqJFlhz2"
   },
   "source": [
    "# 6. (2.0) Conv2d\n",
    "Implement [**Conv2d**](https://pytorch.org/docs/stable/generated/torch.nn.Conv2d.html). Use only this list of parameters: (in_channels, out_channels, kernel_size, stride, padding, bias, padding_mode) and fix dilation=1 and groups=1."
   ]
  },
  {
   "cell_type": "code",
   "execution_count": null,
   "metadata": {
    "id": "c1RjNoEXlOHP"
   },
   "outputs": [],
   "source": [
    "class Conv2d(Module):\n",
    "    def __init__(self, in_channels, out_channels, kernel_size,\n",
    "                 stride=1, padding=0, bias=True, padding_mode='zeros'):\n",
    "        super(Conv2d, self).__init__()\n",
    "\n",
    "        self.in_channels = in_channels\n",
    "        self.out_channels = out_channels\n",
    "        self.kernel_size = kernel_size\n",
    "        self.stride = stride\n",
    "        self.padding = padding\n",
    "        self.bias = bias\n",
    "        self.padding_mode = padding_mode\n",
    "\n",
    "    def updateOutput(self, input):\n",
    "        # Your code goes here. ################################################\n",
    "        return  self.output\n",
    "\n",
    "    def updateGradInput(self, input, gradOutput):\n",
    "        # Your code goes here. ################################################\n",
    "        return self.gradInput\n",
    "\n",
    "    def __repr__(self):\n",
    "        return \"Conv2d\""
   ]
  },
  {
   "cell_type": "markdown",
   "metadata": {
    "id": "updUVZE9qixP"
   },
   "source": [
    "## 7. (0.5) Implement [**MaxPool2d**](https://pytorch.org/docs/stable/generated/torch.nn.MaxPool2d.html) and [**AvgPool2d**](https://pytorch.org/docs/stable/generated/torch.nn.AvgPool2d.html). \n",
    "Use only parameters like kernel_size, stride, padding (negative infinity for maxpool and zero for avgpool) and other parameters fixed as in framework."
   ]
  },
  {
   "cell_type": "code",
   "execution_count": 204,
   "metadata": {},
   "outputs": [],
   "source": [
    "class MaxPool2d(Module):\n",
    "    def __init__(self, kernel_size, stride, padding):\n",
    "        super(MaxPool2d, self).__init__()\n",
    "\n",
    "        self.kernel_size = kernel_size\n",
    "        self.stride = stride\n",
    "        self.padding = padding\n",
    "\n",
    "    def updateOutput(self, input):\n",
    "        N, C, H_in, W_in = input.shape\n",
    "        H_out = (H_in + 2 * self.padding - self.kernel_size) // self.stride + 1\n",
    "        W_out = (W_in + 2 * self.padding - self.kernel_size) // self.stride + 1\n",
    "\n",
    "        self.output = np.zeros((N, C, H_out, W_out))\n",
    "        self.indices = np.zeros((N, C, H_out, W_out), dtype=int)  \n",
    "\n",
    "        if self.padding != 0:\n",
    "            input_padded = np.pad(input, ((0, 0), (0, 0), (self.padding, self.padding), (self.padding, self.padding)), mode='constant', constant_values=np.NINF)\n",
    "            #padding: заполняем -inf, тк 0 могут быть ложно выбраны как максимум\n",
    "        else:\n",
    "            input_padded = input\n",
    "\n",
    "        for i in range(N):\n",
    "            for c in range(C):\n",
    "                for h in range(H_out):\n",
    "                    for w in range(W_out):\n",
    "                        h_start = h * self.stride\n",
    "                        h_end = h_start + self.kernel_size\n",
    "                        w_start = w * self.stride\n",
    "                        w_end = w_start + self.kernel_size\n",
    "\n",
    "                        receptive_field = input_padded[i, c, h_start:h_end, w_start:w_end] #размер рецептивного поля\n",
    "                        max_val = np.max(receptive_field)        #берем из него максимум                \n",
    "                        self.output[i, c, h, w] = max_val     #и ставим максимум на место в output\n",
    "                        self.indices[i, c, h, w] = np.argmax(receptive_field)  #сохраняем индекс макимального значения для обратного прохода\n",
    "        return self.output\n",
    "\n",
    "    def updateGradInput(self, input, gradOutput):\n",
    "        N, C, H_in, W_in = input.shape\n",
    "        H_out = (H_in + 2 * self.padding - self.kernel_size) // self.stride + 1\n",
    "        W_out = (W_in + 2 * self.padding - self.kernel_size) // self.stride + 1\n",
    "\n",
    "        self.gradInput = np.zeros_like(input)\n",
    "\n",
    "        if self.padding != 0:\n",
    "            input_padded = np.pad(input, ((0, 0), (0, 0), (self.padding, self.padding), (self.padding, self.padding)), mode='constant', constant_values=np.NINF)\n",
    "            grad_input_padded = np.pad(self.gradInput, ((0, 0), (0, 0), (self.padding, self.padding), (self.padding, self.padding)), mode='constant', constant_values=0)\n",
    "        else:\n",
    "            input_padded = input\n",
    "            grad_input_padded = self.gradInput\n",
    "            \n",
    "        for i in range(N):\n",
    "            for c in range(C):\n",
    "                for h in range(H_out):\n",
    "                    for w in range(W_out):\n",
    "                        h_start = h * self.stride\n",
    "                        h_end = h_start + self.kernel_size\n",
    "                        w_start = w * self.stride\n",
    "                        w_end = w_start + self.kernel_size\n",
    "\n",
    "                        index = self.indices[i, c, h, w]\n",
    "                        \n",
    "                        row_index = index // self.kernel_size\n",
    "                        col_index = index % self.kernel_size\n",
    "\n",
    "                        grad_input_padded[i, c, h_start + row_index, w_start + col_index] += gradOutput[i, c, h, w]\n",
    "\n",
    "        if self.padding != 0:\n",
    "            self.gradInput = grad_input_padded[:, :, self.padding:-self.padding, self.padding:-self.padding]\n",
    "        else:\n",
    "            self.gradInput = grad_input_padded\n",
    "        return self.gradInput\n",
    "\n",
    "\n",
    "    def __repr__(self):\n",
    "        return \"MaxPool2d\""
   ]
  },
  {
   "cell_type": "code",
   "execution_count": 193,
   "metadata": {},
   "outputs": [],
   "source": [
    "class AvgPool2d(Module):\n",
    "    def __init__(self, kernel_size, stride, padding):\n",
    "        super(AvgPool2d, self).__init__()\n",
    "\n",
    "        self.kernel_size = kernel_size\n",
    "        self.stride = stride\n",
    "        self.padding = padding\n",
    "\n",
    "    def updateOutput(self, input):\n",
    "        N, C, H_in, W_in = input.shape\n",
    "        H_out = (H_in + 2 * self.padding - self.kernel_size) // self.stride + 1\n",
    "        W_out = (W_in + 2 * self.padding - self.kernel_size) // self.stride + 1\n",
    "\n",
    "        self.output = np.zeros((N, C, H_out, W_out))\n",
    "\n",
    "        if self.padding != 0:\n",
    "            input_padded = np.pad(input, ((0, 0), (0, 0), (self.padding, self.padding), (self.padding, self.padding)), mode='constant', constant_values=0)\n",
    "            #здесь padding заполняем 0\n",
    "        else:\n",
    "            input_padded = input\n",
    "\n",
    "        for i in range(N):\n",
    "            for c in range(C):\n",
    "                for h in range(H_out):\n",
    "                    for w in range(W_out):\n",
    "                        h_start = h * self.stride\n",
    "                        h_end = h_start + self.kernel_size\n",
    "                        w_start = w * self.stride\n",
    "                        w_end = w_start + self.kernel_size\n",
    "\n",
    "                        receptive_field = input_padded[i, c, h_start:h_end, w_start:w_end]\n",
    "                        self.output[i, c, h, w] = np.mean(receptive_field)\n",
    "        return self.output\n",
    "\n",
    "    def updateGradInput(self, input, gradOutput):\n",
    "        N, C, H_in, W_in = input.shape\n",
    "        H_out = (H_in + 2 * self.padding - self.kernel_size) // self.stride + 1\n",
    "        W_out = (W_in + 2 * self.padding - self.kernel_size) // self.stride + 1\n",
    "\n",
    "        self.gradInput = np.zeros_like(input)\n",
    "\n",
    "        if self.padding != 0:\n",
    "            grad_input_padded = np.pad(self.gradInput, ((0, 0), (0, 0), (self.padding, self.padding), (self.padding, self.padding)), mode='constant', constant_values=0)\n",
    "        else:\n",
    "            grad_input_padded = self.gradInput\n",
    "\n",
    "        for i in range(N):\n",
    "            for c in range(C):\n",
    "                for h in range(H_out):\n",
    "                    for w in range(W_out):\n",
    "                        h_start = h * self.stride\n",
    "                        h_end = h_start + self.kernel_size\n",
    "                        w_start = w * self.stride\n",
    "                        w_end = w_start + self.kernel_size\n",
    "\n",
    "                        grad_value = gradOutput[i, c, h, w] / (self.kernel_size * self.kernel_size)  \n",
    "                        for h_in in range(h_start, h_end):\n",
    "                            for w_in in range(w_start, w_end):\n",
    "                                grad_input_padded[i, c, h_in, w_in] += grad_value\n",
    "\n",
    "        if self.padding != 0:\n",
    "            self.gradInput = grad_input_padded[:, :, self.padding:-self.padding, self.padding:-self.padding]\n",
    "        else:\n",
    "            self.gradInput = grad_input_padded\n",
    "\n",
    "        return self.gradInput\n",
    "\n",
    "    def __repr__(self):\n",
    "        return \"AvgPool2d\""
   ]
  },
  {
   "cell_type": "markdown",
   "metadata": {
    "id": "KTN5R3CwrukV"
   },
   "source": [
    "# 8. (0.3) \n",
    "Implement **GlobalMaxPool2d** and **GlobalAvgPool2d**. They do not have testing and parameters are up to you but they must aggregate information within channels. Write test functions for these layers on your own."
   ]
  },
  {
   "cell_type": "code",
   "execution_count": 262,
   "metadata": {},
   "outputs": [],
   "source": [
    "class GlobalMaxPool2d(Module):\n",
    "    def __init__(self):\n",
    "        super(GlobalMaxPool2d, self).__init__()\n",
    "\n",
    "    def updateOutput(self, input):\n",
    "        N, C, H_in, W_in = input.shape\n",
    "        self.output = np.zeros((N, C), dtype=np.float32)\n",
    "\n",
    "        for i in range(N):\n",
    "            for c in range(C):\n",
    "                self.output[i, c] = np.max(input[i, c, :, :])\n",
    "\n",
    "        self.input_shape = input.shape\n",
    "        self.input_tensor = input.astype(np.float32)\n",
    "        return self.output\n",
    "\n",
    "    def updateGradInput(self, input, gradOutput):\n",
    "        N, C, H_in, W_in = self.input_shape\n",
    "        self.gradInput = np.zeros_like(self.input_tensor, dtype=np.float32)\n",
    "\n",
    "        for i in range(N):\n",
    "            for c in range(C):\n",
    "                max_index = np.argmax(self.input_tensor[i, c, :, :])\n",
    "                max_h = max_index // W_in\n",
    "                max_w = max_index % W_in\n",
    "                self.gradInput[i, c, max_h, max_w] = gradOutput[i, c]\n",
    "\n",
    "        return self.gradInput\n",
    "\n",
    "    def __repr__(self):\n",
    "        return \"GlobalMaxPool2d\""
   ]
  },
  {
   "cell_type": "code",
   "execution_count": 265,
   "metadata": {},
   "outputs": [],
   "source": [
    "class GlobalAvgPool2d(Module):\n",
    "    def __init__(self):\n",
    "        super(GlobalAvgPool2d, self).__init__()\n",
    "\n",
    "    def updateOutput(self, input):\n",
    "        N, C, H_in, W_in = input.shape\n",
    "        self.output = np.zeros((N, C), dtype=np.float32)\n",
    "\n",
    "        for i in range(N):\n",
    "            for c in range(C):\n",
    "                self.output[i, c] = np.mean(input[i, c, :, :])\n",
    "\n",
    "        self.input_shape = input.shape\n",
    "        self.input_tensor = input.astype(np.float32)\n",
    "        return self.output\n",
    "\n",
    "    def updateGradInput(self, input, gradOutput):\n",
    "        N, C, H_in, W_in = self.input_shape\n",
    "        self.gradInput = np.zeros_like(self.input_tensor, dtype=np.float32)\n",
    "\n",
    "        for i in range(N):\n",
    "            for c in range(C):\n",
    "                self.gradInput[i, c, :, :] = gradOutput[i, c] / (H_in * W_in)  \n",
    "\n",
    "        return self.gradInput\n",
    "\n",
    "    def __repr__(self):\n",
    "        return \"GlobalAvgPool2d\""
   ]
  },
  {
   "cell_type": "markdown",
   "metadata": {
    "id": "cYeBQDBhtViy"
   },
   "source": [
    "# 9. (0.2) Implement [**Flatten**](https://pytorch.org/docs/stable/generated/torch.flatten.html)"
   ]
  },
  {
   "cell_type": "code",
   "execution_count": 249,
   "metadata": {
    "id": "SimPEMOFqhTQ"
   },
   "outputs": [],
   "source": [
    "class Flatten(Module):\n",
    "    def __init__(self, start_dim=0, end_dim=-1):\n",
    "        super(Flatten, self).__init__()\n",
    "\n",
    "        self.start_dim = start_dim\n",
    "        self.end_dim = end_dim\n",
    "\n",
    "    def updateOutput(self, input):\n",
    "        # Your code goes here. ################################################\n",
    "        self.original_shape = input.shape\n",
    "\n",
    "        # Вычисляем новую форму, учитывая start_dim и end_dim\n",
    "        new_shape = list(input.shape)\n",
    "        start_dim = self.start_dim if self.start_dim >= 0 else len(new_shape) + self.start_dim\n",
    "        end_dim = self.end_dim if self.end_dim >= 0 else len(new_shape) + self.end_dim\n",
    "\n",
    "        new_shape = new_shape[:start_dim] + [-1]\n",
    "        if end_dim != -1:\n",
    "            new_shape[start_dim] = np.prod(input.shape[start_dim:end_dim+1])\n",
    "\n",
    "        self.output = input.reshape(*new_shape)\n",
    "        return  self.output\n",
    "\n",
    "    def updateGradInput(self, input, gradOutput):\n",
    "        # Your code goes here. ################################################\n",
    "        self.gradInput = gradOutput.reshape(self.original_shape)\n",
    "        return self.gradInput\n",
    "\n",
    "    def __repr__(self):\n",
    "        return \"Flatten\""
   ]
  },
  {
   "cell_type": "markdown",
   "metadata": {
    "id": "o36vPHSSj6eb"
   },
   "source": [
    "# Activation functions"
   ]
  },
  {
   "cell_type": "markdown",
   "metadata": {
    "id": "l_pryRQIj6ec"
   },
   "source": [
    "Here's the complete example for the **Rectified Linear Unit** non-linearity (aka **ReLU**):"
   ]
  },
  {
   "cell_type": "code",
   "execution_count": null,
   "metadata": {
    "collapsed": true,
    "id": "sgm8bXjKj6ec",
    "jupyter": {
     "outputs_hidden": true
    }
   },
   "outputs": [],
   "source": [
    "class ReLU(Module):\n",
    "    def __init__(self):\n",
    "         super(ReLU, self).__init__()\n",
    "\n",
    "    def updateOutput(self, input):\n",
    "        self.output = np.maximum(input, 0)\n",
    "        return self.output\n",
    "\n",
    "    def updateGradInput(self, input, gradOutput):\n",
    "        self.gradInput = np.multiply(gradOutput , input > 0)\n",
    "        return self.gradInput\n",
    "\n",
    "    def __repr__(self):\n",
    "        return \"ReLU\""
   ]
  },
  {
   "cell_type": "markdown",
   "metadata": {
    "id": "yB0UHGagj6ec"
   },
   "source": [
    "## 10. (0.1) Leaky ReLU\n",
    "Implement [**Leaky Rectified Linear Unit**](http://en.wikipedia.org/wiki%2FRectifier_%28neural_networks%29%23Leaky_ReLUs). Expriment with slope."
   ]
  },
  {
   "cell_type": "code",
   "execution_count": null,
   "metadata": {
    "id": "agwfkwO0j6ec"
   },
   "outputs": [],
   "source": [
    "class LeakyReLU(Module):\n",
    "    def __init__(self, slope = 0.03):\n",
    "        super(LeakyReLU, self).__init__()\n",
    "\n",
    "        self.slope = slope\n",
    "\n",
    "    def updateOutput(self, input):\n",
    "        # Your code goes here. ################################################\n",
    "        self.output = np.where(input > 0, input, self.slope * input)\n",
    "        return  self.output\n",
    "\n",
    "    def updateGradInput(self, input, gradOutput):\n",
    "        # Your code goes here. ################################################\n",
    "        self.gradInput = np.where(input > 0, gradOutput, self.slope * gradOutput)\n",
    "        return self.gradInput\n",
    "\n",
    "    def __repr__(self):\n",
    "        return \"LeakyReLU\""
   ]
  },
  {
   "cell_type": "markdown",
   "metadata": {
    "id": "t-STyecvj6ec"
   },
   "source": [
    "## 11. (0.1) ELU\n",
    "Implement [**Exponential Linear Units**](http://arxiv.org/abs/1511.07289) activations."
   ]
  },
  {
   "cell_type": "code",
   "execution_count": 81,
   "metadata": {
    "id": "jJSzEu1mj6ec"
   },
   "outputs": [],
   "source": [
    "class ELU(Module):\n",
    "    def __init__(self, alpha = 1.0):\n",
    "        super(ELU, self).__init__()\n",
    "\n",
    "        self.alpha = alpha\n",
    "\n",
    "    def updateOutput(self, input):\n",
    "        # Your code goes here. ################################################\n",
    "        self.output = np.where(input >= 0, input, self.alpha * (np.exp(input) - 1))\n",
    "        return  self.output\n",
    "\n",
    "    def updateGradInput(self, input, gradOutput):\n",
    "        # Your code goes here. ################################################\n",
    "        self.gradInput = np.where(input >= 0, gradOutput, self.alpha * gradOutput * np.exp(input))                       \n",
    "        return self.gradInput\n",
    "\n",
    "    def __repr__(self):\n",
    "        return \"ELU\""
   ]
  },
  {
   "cell_type": "markdown",
   "metadata": {
    "id": "Gn3C7KTqj6ec"
   },
   "source": [
    "## 12. (0.1) SoftPlus\n",
    "Implement [**SoftPlus**](https://en.wikipedia.org/wiki%2FRectifier_%28neural_networks%29) activations. Look, how they look a lot like ReLU."
   ]
  },
  {
   "cell_type": "code",
   "execution_count": null,
   "metadata": {
    "collapsed": true,
    "id": "xcDPMssrj6ec",
    "jupyter": {
     "outputs_hidden": true
    }
   },
   "outputs": [],
   "source": [
    "class SoftPlus(Module):\n",
    "    def __init__(self):\n",
    "        super(SoftPlus, self).__init__()\n",
    "\n",
    "    def updateOutput(self, input):\n",
    "        # Your code goes here. ################################################\n",
    "        self.output = np.log(1 + np.exp(input))\n",
    "        return  self.output\n",
    "\n",
    "    def updateGradInput(self, input, gradOutput):\n",
    "        # Your code goes here. ################################################\n",
    "        self.gradInput = gradOutput * np.exp(input) / (1 + np.exp(input))\n",
    "        return self.gradInput\n",
    "\n",
    "    def __repr__(self):\n",
    "        return \"SoftPlus\""
   ]
  },
  {
   "cell_type": "markdown",
   "metadata": {
    "id": "kw3PeZjOuo0e"
   },
   "source": [
    "# 13. (0.2) Gelu\n",
    "Implement [**Gelu**](https://pytorch.org/docs/stable/generated/torch.nn.GELU.html) activations.\n",
    "$$\n",
    "\\text{GELU}(x) = 0.5x \\cdot \\left( 1 + \\tanh \\left( \\sqrt{\\frac{2}{\\pi}} (x + 0.044715x^3) \\right) \\right)\n",
    "$$"
   ]
  },
  {
   "cell_type": "code",
   "execution_count": 98,
   "metadata": {},
   "outputs": [],
   "source": [
    "#в homework_test_modules понизила точность, так как формула приближенная\n",
    "class Gelu(Module):\n",
    "    def __init__(self):\n",
    "        super(Gelu, self).__init__()\n",
    "\n",
    "    def updateOutput(self, input):\n",
    "        self.output = 0.5 * input * (1 + np.tanh(np.sqrt(2/np.pi) * (input + 0.044715 * input**3)))\n",
    "        return  self.output\n",
    "\n",
    "    def updateGradInput(self, input, gradOutput):\n",
    "        # Your code goes here. ################################################\n",
    "        a = np.sqrt(2/np.pi) * (input + 0.044715 * input**3)\n",
    "        \n",
    "        self.gradInput = gradOutput * (0.5 + 0.5 * np.tanh(a) + \n",
    "    0.5 * input * ( (1 - (np.tanh(a))**2) * (np.sqrt(2/np.pi) + 3 * np.sqrt(2/np.pi) * 0.044715 * input**2) ) )\n",
    "        \n",
    "        return self.gradInput\n",
    "\n",
    "    def __repr__(self):\n",
    "        return \"Gelu\""
   ]
  },
  {
   "cell_type": "markdown",
   "metadata": {
    "id": "55p7UvPAj6ec"
   },
   "source": [
    "# Criterions"
   ]
  },
  {
   "cell_type": "markdown",
   "metadata": {
    "id": "5NFaxZaqj6ec"
   },
   "source": [
    "Criterions are used to score the models answers."
   ]
  },
  {
   "cell_type": "code",
   "execution_count": 111,
   "metadata": {
    "id": "XGu45A8qj6ec"
   },
   "outputs": [],
   "source": [
    "class Criterion(object):\n",
    "    def __init__ (self):\n",
    "        self.output = None\n",
    "        self.gradInput = None\n",
    "\n",
    "    def forward(self, input, target):\n",
    "        \"\"\"\n",
    "            Given an input and a target, compute the loss function\n",
    "            associated to the criterion and return the result.\n",
    "\n",
    "            For consistency this function should not be overrided,\n",
    "            all the code goes in `updateOutput`.\n",
    "        \"\"\"\n",
    "        return self.updateOutput(input, target)\n",
    "\n",
    "    def backward(self, input, target):\n",
    "        \"\"\"\n",
    "            Given an input and a target, compute the gradients of the loss function\n",
    "            associated to the criterion and return the result.\n",
    "\n",
    "            For consistency this function should not be overrided,\n",
    "            all the code goes in `updateGradInput`.\n",
    "        \"\"\"\n",
    "        return self.updateGradInput(input, target)\n",
    "\n",
    "    def updateOutput(self, input, target):\n",
    "        \"\"\"\n",
    "        Function to override.\n",
    "        \"\"\"\n",
    "        return self.output\n",
    "\n",
    "    def updateGradInput(self, input, target):\n",
    "        \"\"\"\n",
    "        Function to override.\n",
    "        \"\"\"\n",
    "        return self.gradInput\n",
    "\n",
    "    def __repr__(self):\n",
    "        \"\"\"\n",
    "        Pretty printing. Should be overrided in every module if you want\n",
    "        to have readable description.\n",
    "        \"\"\"\n",
    "        return \"Criterion\""
   ]
  },
  {
   "cell_type": "markdown",
   "metadata": {
    "id": "WuU26xkpj6ec"
   },
   "source": [
    "The **MSECriterion**, which is basic L2 norm usually used for regression, is implemented here for you.\n",
    "- input:   **`batch_size x n_feats`**\n",
    "- target: **`batch_size x n_feats`**\n",
    "- output: **scalar**"
   ]
  },
  {
   "cell_type": "code",
   "execution_count": 113,
   "metadata": {
    "id": "-i3VNuHhj6ec"
   },
   "outputs": [],
   "source": [
    "class MSECriterion(Criterion):\n",
    "    def __init__(self):\n",
    "        super(MSECriterion, self).__init__()\n",
    "\n",
    "    def updateOutput(self, input, target):\n",
    "        self.output = np.sum(np.power(input - target,2)) / input.shape[0]\n",
    "        return self.output\n",
    "\n",
    "    def updateGradInput(self, input, target):\n",
    "        self.gradInput  = (input - target) * 2 / input.shape[0]\n",
    "        return self.gradInput\n",
    "\n",
    "    def __repr__(self):\n",
    "        return \"MSECriterion\""
   ]
  },
  {
   "cell_type": "markdown",
   "metadata": {
    "id": "x8LKLWNVj6ec"
   },
   "source": [
    "## 14. (0.2) Negative LogLikelihood criterion (numerically unstable)\n",
    "You task is to implement the **ClassNLLCriterion**. It should implement [multiclass log loss](http://scikit-learn.org/stable/modules/model_evaluation.html#log-loss). Nevertheless there is a sum over `y` (target) in that formula,\n",
    "remember that targets are one-hot encoded. This fact simplifies the computations a lot. Note, that criterions are the only places, where you divide by batch size. Also there is a small hack with adding small number to probabilities to avoid computing log(0).\n",
    "- input:   **`batch_size x n_feats`** - probabilities\n",
    "- target: **`batch_size x n_feats`** - one-hot representation of ground truth\n",
    "- output: **scalar**\n",
    "\n"
   ]
  },
  {
   "cell_type": "code",
   "execution_count": 115,
   "metadata": {
    "id": "die7KvW6j6ec"
   },
   "outputs": [],
   "source": [
    "class ClassNLLCriterionUnstable(Criterion):\n",
    "    EPS = 1e-15\n",
    "    def __init__(self):\n",
    "        a = super(ClassNLLCriterionUnstable, self)\n",
    "        super(ClassNLLCriterionUnstable, self).__init__()\n",
    "\n",
    "    def updateOutput(self, input, target):\n",
    "\n",
    "        # Use this trick to avoid numerical errors\n",
    "        input_clamp = np.clip(input, self.EPS, 1 - self.EPS)\n",
    "\n",
    "        # Your code goes here. ################################################\n",
    "        self.output = -np.sum(target * np.log(input_clamp)) / input.shape[0]\n",
    "        return self.output\n",
    "\n",
    "    def updateGradInput(self, input, target):\n",
    "\n",
    "        # Use this trick to avoid numerical errors\n",
    "        input_clamp = np.clip(input, self.EPS, 1 - self.EPS)\n",
    "        target = target.astype(np.int64)\n",
    "\n",
    "        # Your code goes here. ################################################\n",
    "        self.gradInput = -(target / input_clamp) / input.shape[0]\n",
    "        return self.gradInput\n",
    "\n",
    "    def __repr__(self):\n",
    "        return \"ClassNLLCriterionUnstable\""
   ]
  },
  {
   "cell_type": "markdown",
   "metadata": {
    "id": "uHr_JbU5j6ec"
   },
   "source": [
    "## 15. (0.3) Negative LogLikelihood criterion (numerically stable)\n",
    "- input:   **`batch_size x n_feats`** - log probabilities\n",
    "- target: **`batch_size x n_feats`** - one-hot representation of ground truth\n",
    "- output: **scalar**\n",
    "\n",
    "Task is similar to the previous one, but now the criterion input is the output of log-softmax layer. This decomposition allows us to avoid problems with computation of forward and backward of log()."
   ]
  },
  {
   "cell_type": "code",
   "execution_count": 119,
   "metadata": {
    "id": "v7N8bVP9j6ec"
   },
   "outputs": [],
   "source": [
    "class ClassNLLCriterion(Criterion):\n",
    "    def __init__(self):\n",
    "        a = super(ClassNLLCriterion, self)\n",
    "        super(ClassNLLCriterion, self).__init__()\n",
    "\n",
    "    def updateOutput(self, input, target):\n",
    "        # Your code goes here. ################################################\n",
    "        self.output = -np.sum(target * input) / input.shape[0]\n",
    "        return self.output\n",
    "\n",
    "    def updateGradInput(self, input, target):\n",
    "        # Your code goes here. ################################################\n",
    "        self.gradInput = -target / input.shape[0]\n",
    "        return self.gradInput\n",
    "\n",
    "    def __repr__(self):\n",
    "        return \"ClassNLLCriterion\""
   ]
  },
  {
   "cell_type": "markdown",
   "metadata": {
    "id": "TC2Bf1PP2Ios"
   },
   "source": [
    "1-я часть задания: реализация слоев, лосей и функций активации - 5 баллов. \\\\\n",
    "2-я часть задания: реализация моделей на своих классах. Что должно быть:\n",
    "  1. Выберите оптимизатор и реализуйте его, чтоб он работал с вами классами. - 1 балл.\n",
    "  2. Модель для задачи мультирегрессии на выбраных вами данных. Использовать FCNN, dropout, batchnorm, MSE. Пробуйте различные фукнции активации. Для первой модели попробуйте большую, среднюю и маленькую модель. - 1 балл.\n",
    "  3. Модель для задачи мультиклассификации на MNIST. Использовать свёртки, макспулы, флэттэны, софтмаксы - 1 балла.\n",
    "  4. Автоэнкодер для выбранных вами данных. Должен быть на свёртках и полносвязных слоях, дропаутах, батчнормах и тд. - 2 балла. \\\\\n",
    "\n",
    "Дополнительно в оценке каждой модели будет учитываться:\n",
    "1. Наличие правильно выбранной метрики и лосс функции.\n",
    "2. Отрисовка графиков лосей и метрик на трейне-валидации. Проверка качества модели на тесте.\n",
    "3. Наличие шедулера для lr.\n",
    "4. Наличие вормапа.\n",
    "5. Наличие механизма ранней остановки и сохранение лучшей модели.\n",
    "6. Свитч лося (метрики) и оптимайзера."
   ]
  },
  {
   "cell_type": "markdown",
   "metadata": {
    "id": "Aq0X5QV55ZH4"
   },
   "source": [
    "## Оптимизатор: Adagrad"
   ]
  },
  {
   "cell_type": "code",
   "execution_count": 129,
   "metadata": {},
   "outputs": [],
   "source": [
    "class Adagrad:\n",
    "    def __init__(self, params, lr=1e-2, eps=1e-8):\n",
    "        self.lr = lr\n",
    "        self.eps = eps\n",
    "        self.params = params\n",
    "        self.G = [np.zeros_like(param) for param in self.params]\n",
    "\n",
    "\n",
    "    def step(self, grads):\n",
    "        for i, (param, grad) in enumerate(zip(self.params, grads)): \n",
    "            self.G[i] += grad**2 #накапливаем градиенты\n",
    "            param -= self.lr * grad / (np.sqrt(self.G[i]) + self.eps) #обновляем параметры\n",
    "\n",
    "    def zero_grad(self):\n",
    "        for squared_grad in self.G: #обнуляем накопленные градиенты\n",
    "            squared_grad[:] = 0\n",
    "        return 'Adagrad'"
   ]
  },
  {
   "cell_type": "code",
   "execution_count": 131,
   "metadata": {},
   "outputs": [],
   "source": [
    "# Пример использования:\n",
    "params = [np.random.randn(5, 10), np.random.randn(10, 3)] # Ваши параметры (веса модели)\n",
    "optimizer = Adagrad(params)\n",
    "\n",
    "# Цикл обучения (пример)\n",
    "for i in range(100):\n",
    "    # Вычисляем градиенты (например, обратным распространением ошибки)\n",
    "    grads = [np.random.randn(5, 10), np.random.randn(10, 3)] # Пример градиентов\n",
    "\n",
    "    # Обновляем параметры\n",
    "    optimizer.step(grads)\n",
    "\n",
    "    # Обнуляем градиенты\n",
    "    optimizer.zero_grad()"
   ]
  },
  {
   "cell_type": "markdown",
   "metadata": {},
   "source": [
    "## Мультирегрессия"
   ]
  },
  {
   "cell_type": "code",
   "execution_count": 628,
   "metadata": {},
   "outputs": [
    {
     "data": {
      "image/png": "[encoded data removed]",
      "text/plain": [
       "<Figure size 800x400 with 1 Axes>"
      ]
     },
     "metadata": {},
     "output_type": "display_data"
    }
   ],
   "source": [
    "import matplotlib.pyplot as plt\n",
    "import pandas as pd\n",
    "import torch\n",
    "import torch.nn as nn\n",
    "from torch.utils.data import DataLoader, TensorDataset\n",
    "\n",
    "np.random.seed(42)\n",
    "num_samples = 1000 #количество наблюдений\n",
    "num_outputs = 3 #количество выходных переменных\n",
    "seq_length = 20 #длина последовательности временного ряда\n",
    "#Пример: 1000 датчиков измеряют температуру, давление и влажность последовательно по 20 раз\n",
    "\n",
    "# Матрица коэффициентов VAR(1) \n",
    "A = np.array([[0.5, 0.2, 0.1],\n",
    "              [0.1, 0.6, 0.2],\n",
    "              [0.2, 0.1, 0.7]])\n",
    "\n",
    "# Ковариационная матрица ошибок \n",
    "Sigma = np.array([[1.0, 0.5, 0.3],\n",
    "                  [0.5, 1.5, 0.2],\n",
    "                  [0.3, 0.2, 1.2]])\n",
    "\n",
    "# Генерация данных\n",
    "data = np.zeros((num_samples, seq_length, num_outputs))\n",
    "errors = np.random.multivariate_normal(mean=np.zeros(num_outputs), cov=Sigma, size=(num_samples, seq_length))\n",
    "for i in range(num_samples):\n",
    "    for t in range(1, seq_length):\n",
    "        data[i, t] = A @ data[i, t-1] + errors[i, t]\n",
    "\n",
    "# Визуализация данных\n",
    "plt.figure(figsize=(8,4))\n",
    "for i in range(num_outputs):\n",
    "    plt.plot(data[0, :, i], label=f'Output {i+1}')\n",
    "plt.title('Первый пример из данных') #20 измерений трех показателей с 1 датчика\n",
    "plt.xlabel('Время')\n",
    "plt.ylabel('Значение')\n",
    "plt.legend()\n",
    "plt.grid(True)\n",
    "plt.show()"
   ]
  },
  {
   "cell_type": "code",
   "execution_count": 630,
   "metadata": {},
   "outputs": [],
   "source": [
    "X = data[:, :-1, :].reshape(num_samples, (seq_length - 1) * num_outputs)\n",
    "y = data[:, -1, :]\n",
    "\n",
    "X_train, X_test, y_train, y_test = train_test_split(X, y, test_size=0.2, random_state=42)\n",
    "\n",
    "X_train = X_train.astype(np.float32)\n",
    "X_test = X_test.astype(np.float32)\n",
    "y_train = y_train.astype(np.float32)\n",
    "y_test = y_test.astype(np.float32)"
   ]
  },
  {
   "cell_type": "code",
   "execution_count": 638,
   "metadata": {},
   "outputs": [],
   "source": [
    "class FCNN(Module):\n",
    "    def __init__(self, input_size, hidden_size, output_size, dropout=0.0):\n",
    "        super(FCNN, self).__init__()\n",
    "        self.model = Sequential()\n",
    "        self.linear1 = Linear(input_size, hidden_size)\n",
    "        self.bn1 = BatchNormalization(hidden_size)\n",
    "        self.relu1 = ReLU() \n",
    "        self.dropout1 = Dropout(dropout)\n",
    "        self.linear2 = Linear(hidden_size, output_size)\n",
    "\n",
    "    def updateOutput(self, input):\n",
    "        self.output = self.linear1.updateOutput(input)\n",
    "        self.output = self.bn1.updateOutput(self.output)\n",
    "        self.output = self.relu1.updateOutput(self.output)\n",
    "        self.output = self.dropout1.updateOutput(self.output)\n",
    "        self.output = self.linear2.updateOutput(self.output)\n",
    "        return self.output\n",
    "\n",
    "    def updateGradInput(self, input, gradOutput):\n",
    "        self.gradInput = self.linear2.updateGradInput(self.linear1.output, gradOutput)\n",
    "        self.gradInput = self.dropout1.updateGradInput(self.relu1.output, self.gradInput)\n",
    "        self.gradInput = self.relu1.updateGradInput(self.bn1.output, self.gradInput)\n",
    "        self.gradInput = self.bn1.updateGradInput(self.linear1.output, self.gradInput)\n",
    "        self.gradInput = self.linear1.updateGradInput(input, self.gradInput)\n",
    "        return self.gradInput\n",
    "    def zeroGradParameters(self):\n",
    "        self.linear1.zeroGradParameters()\n",
    "        self.linear2.zeroGradParameters()\n",
    "        self.bn1.zeroGradParameters()\n",
    "    def getParameters(self):\n",
    "        return self.linear1.getParameters() + self.linear2.getParameters() + self.bn1.getParameters()\n",
    "    def getGradParameters(self):\n",
    "        return self.linear1.getGradParameters() + self.linear2.getGradParameters() + self.bn1.getGradParameters()"
   ]
  },
  {
   "cell_type": "code",
   "execution_count": 654,
   "metadata": {},
   "outputs": [],
   "source": [
    "def train_model(model, X_train, y_train, X_test, y_test, learning_rate=0.001, epochs=100, batch_size=32):\n",
    "    criterion = MSECriterion()  \n",
    "    optimizer = Adagrad(model.getParameters())\n",
    "    train_losses = []\n",
    "    test_losses = []\n",
    "\n",
    "    for epoch in range(epochs):\n",
    "        for i in range(0, len(X_train), batch_size):\n",
    "            X_batch = X_train[i:i+batch_size]\n",
    "            y_batch = y_train[i:i+batch_size]\n",
    "\n",
    "            model.zeroGradParameters() \n",
    "            outputs = model.updateOutput(X_batch)\n",
    "            loss = criterion.updateOutput(outputs, y_batch)\n",
    "            grad_output = criterion.updateGradInput(outputs, y_batch)\n",
    "            model.backward(X_batch, grad_output)\n",
    "            optimizer.step()\n",
    "\n",
    "        train_output = model.updateOutput(X_train)\n",
    "        train_loss = criterion.updateOutput(train_output, y_train)\n",
    "        train_losses.append(train_loss)\n",
    "\n",
    "        test_output = model.updateOutput(X_test)\n",
    "        test_loss = criterion.updateOutput(test_output, y_test)\n",
    "        test_losses.append(test_loss)\n",
    "\n",
    "        print(f'Epoch {epoch + 1}, Train Loss: {train_loss:.4f}, Test Loss: {test_loss:.4f}')\n",
    "    return train_losses, test_losses\n",
    "\n",
    "input_size = (seq_length - 1) * num_outputs\n",
    "output_size = num_outputs\n",
    "\n"
   ]
  },
  {
   "cell_type": "code",
   "execution_count": 656,
   "metadata": {},
   "outputs": [
    {
     "ename": "AttributeError",
     "evalue": "'MSECriterion' object has no attribute 'updateOutput'",
     "output_type": "error",
     "traceback": [
      "\u001b[0;31m---------------------------------------------------------------------------\u001b[0m",
      "\u001b[0;31mAttributeError\u001b[0m                            Traceback (most recent call last)",
      "Cell \u001b[0;32mIn[656], line 2\u001b[0m\n\u001b[1;32m      1\u001b[0m model \u001b[38;5;241m=\u001b[39m FCNN(input_size, \u001b[38;5;241m64\u001b[39m, output_size, dropout\u001b[38;5;241m=\u001b[39m\u001b[38;5;241m0.2\u001b[39m)\n\u001b[0;32m----> 2\u001b[0m train_losses, test_losses \u001b[38;5;241m=\u001b[39m train_model(model, X_train, y_train, X_test, y_test)\n",
      "Cell \u001b[0;32mIn[654], line 19\u001b[0m, in \u001b[0;36mtrain_model\u001b[0;34m(model, X_train, y_train, X_test, y_test, learning_rate, epochs, batch_size)\u001b[0m\n\u001b[1;32m     16\u001b[0m outputs \u001b[38;5;241m=\u001b[39m model\u001b[38;5;241m.\u001b[39mupdateOutput(X_batch)\n\u001b[1;32m     18\u001b[0m \u001b[38;5;66;03m# Compute loss\u001b[39;00m\n\u001b[0;32m---> 19\u001b[0m loss \u001b[38;5;241m=\u001b[39m criterion\u001b[38;5;241m.\u001b[39mupdateOutput(outputs, y_batch)\n\u001b[1;32m     21\u001b[0m \u001b[38;5;66;03m# Backward pass\u001b[39;00m\n\u001b[1;32m     22\u001b[0m grad_output \u001b[38;5;241m=\u001b[39m criterion\u001b[38;5;241m.\u001b[39mupdateGradInput(outputs, y_batch)\n",
      "\u001b[0;31mAttributeError\u001b[0m: 'MSECriterion' object has no attribute 'updateOutput'"
     ]
    }
   ],
   "source": [
    "model = FCNN(input_size, 64, output_size, dropout=0.2)\n",
    "train_losses, test_losses = train_model(model, X_train, y_train, X_test, y_test)"
   ]
  },
  {
   "cell_type": "markdown",
   "metadata": {},
   "source": [
    "## Мультиклассификация на MNIST"
   ]
  },
  {
   "cell_type": "code",
   "execution_count": 540,
   "metadata": {},
   "outputs": [],
   "source": [
    "import torchvision\n",
    "from torchvision import transforms as T\n",
    "transform = T.Compose(\n",
    "    [\n",
    "        T.ToTensor(),\n",
    "        T.Normalize((0.1307,), (0.3081,))\n",
    "    ]\n",
    ")\n",
    "\n",
    "train_dataset = torchvision.datasets.MNIST(\n",
    "    'MNIST', train=True, download=True, transform=transform\n",
    ")\n",
    "val_dataset = torchvision.datasets.MNIST(\n",
    "    'MNIST', train=False, download=True, transform=transform\n",
    ")\n",
    "\n",
    "train_loader = torch.utils.data.DataLoader(\n",
    "    train_dataset, batch_size=32, shuffle=True, num_workers=4\n",
    ")\n",
    "test_loader = torch.utils.data.DataLoader(\n",
    "    val_dataset, batch_size=1024, shuffle=False, num_workers=4\n",
    ")"
   ]
  },
  {
   "cell_type": "code",
   "execution_count": 347,
   "metadata": {},
   "outputs": [
    {
     "data": {
      "image/png": "[encoded data removed]",
      "text/plain": [
       "<Figure size 1500x400 with 16 Axes>"
      ]
     },
     "metadata": {},
     "output_type": "display_data"
    }
   ],
   "source": [
    "images, labels = next(iter(train_loader))\n",
    "cols = 8\n",
    "rows = 2\n",
    "fig = plt.figure(figsize=(2 * cols - 1, 2.5 * rows - 1))\n",
    "k = 0\n",
    "for i in range(cols):\n",
    "    for j in range(rows):\n",
    "        ax = fig.add_subplot(rows, cols, i * rows + j + 1)\n",
    "        ax.grid('off')\n",
    "        ax.axis('off')\n",
    "        ax.imshow(np.transpose(images[k], (1, 2, 0)), cmap='gray')\n",
    "        ax.set_title(labels[k].item())\n",
    "        k += 1\n",
    "plt.show()"
   ]
  },
  {
   "cell_type": "code",
   "execution_count": 610,
   "metadata": {},
   "outputs": [],
   "source": [
    "class MyNN(Module):\n",
    "    def __init__(self, in_features, num_classes, hide_neurons):\n",
    "        super(MyNN, self).__init__()\n",
    "        self.model = Sequential()\n",
    "        self.model.add(Linear(784, hide_neurons))\n",
    "        self.model.add(ReLU())\n",
    "        self.model.add(Linear(hide_neurons, hide_neurons // 2))\n",
    "        self.model.add(ReLU())\n",
    "        self.model.add(Linear(hide_neurons//2, hide_neurons//4))\n",
    "        self.model.add(ReLU())\n",
    "        self.model.add(Linear(hide_neurons//4, num_classes))\n",
    "        #self.LogSoftMax = LogSoftMax()\n",
    "        \n",
    "        \n",
    "    def forward(self, input):\n",
    "        return self.model.forward(input)\n",
    "\n",
    "    def backward(self, input, grad):\n",
    "        return self.model.backward(input, grad)\n",
    "        \n",
    "    def getParameters(self):\n",
    "        return self.model.getParameters()\n",
    "\n",
    "model = MyNN(28**2, 10, 64)"
   ]
  },
  {
   "cell_type": "code",
   "execution_count": 612,
   "metadata": {},
   "outputs": [],
   "source": [
    "from IPython.display import clear_output\n",
    "def plot_losses(train_losses, test_losses, train_accuracies, test_accuracies):\n",
    "    clear_output()\n",
    "    fig, axs = plt.subplots(1, 2, figsize=(13, 4))\n",
    "    axs[0].plot(range(1, len(train_losses) + 1), train_losses, label='train')\n",
    "    axs[0].plot(range(1, len(test_losses) + 1), test_losses, label='test')\n",
    "    axs[0].set_ylabel('loss')\n",
    "\n",
    "    axs[1].plot(range(1, len(train_accuracies) + 1), train_accuracies, label='train')\n",
    "    axs[1].plot(range(1, len(test_accuracies) + 1), test_accuracies, label='test')\n",
    "    axs[1].set_ylabel('accuracy')\n",
    "\n",
    "    for ax in axs:\n",
    "        ax.set_xlabel('epoch')\n",
    "        ax.legend()\n",
    "\n",
    "    plt.show()"
   ]
  },
  {
   "cell_type": "code",
   "execution_count": 614,
   "metadata": {},
   "outputs": [],
   "source": [
    "def train():\n",
    "    train_losses, train_accuracies = [], []\n",
    "    test_losses, test_accuracies = [], []\n",
    "\n",
    "    for epoch in range(1, NUM_EPOCHS + 1):\n",
    "        train_loss, train_accuracy = 0.0, 0.0\n",
    "        \n",
    "        model.train()\n",
    "        for images, labels in tqdm(train_loader, desc='Training'):\n",
    "            images = images.to(device)\n",
    "            labels = labels.to(device)\n",
    "\n",
    "            optimizer.zero_grad()\n",
    "            logits = model(torch.flatten(images, start_dim=1))\n",
    "            # logits: batch_size x num_classes\n",
    "            loss = criterion(logits, labels)\n",
    "            loss.backward()\n",
    "            optimizer.step()\n",
    "\n",
    "            train_loss += loss.item() * images.shape[0]\n",
    "            train_accuracy += (logits.argmax(dim=1) == labels).sum().item()\n",
    "\n",
    "        if scheduler is not None:\n",
    "            scheduler.step()\n",
    "\n",
    "        train_loss /= len(train_loader.dataset)\n",
    "        train_accuracy /= len(train_loader.dataset)\n",
    "        train_losses += [train_loss]\n",
    "        train_accuracies += [train_accuracy]\n",
    "\n",
    "        test_loss, test_accuracy = 0.0, 0.0\n",
    "        \n",
    "        model.eval()\n",
    "        for images, labels in tqdm(test_loader, desc='Validating'):\n",
    "            images = images.to(device)\n",
    "            labels = labels.to(device)\n",
    "\n",
    "            with torch.no_grad():\n",
    "                logits = model(torch.flatten(images, start_dim=1))\n",
    "                # logits: batch_size x num_classes\n",
    "                loss = criterion(logits, labels)\n",
    "\n",
    "            test_loss += loss.item() * images.shape[0]\n",
    "            test_accuracy += (logits.argmax(dim=1) == labels).sum().item()\n",
    "\n",
    "        test_loss /= len(test_loader.dataset)\n",
    "        test_accuracy /= len(test_loader.dataset)\n",
    "        test_losses += [test_loss]\n",
    "        test_accuracies += [test_accuracy]\n",
    "        plot_losses(train_losses, test_losses, train_accuracies, test_accuracies)"
   ]
  },
  {
   "cell_type": "code",
   "execution_count": 624,
   "metadata": {},
   "outputs": [
    {
     "ename": "ValueError",
     "evalue": "setting an array element with a sequence. The requested array has an inhomogeneous shape after 2 dimensions. The detected shape was (2, 64) + inhomogeneous part.",
     "output_type": "error",
     "traceback": [
      "\u001b[0;31m---------------------------------------------------------------------------\u001b[0m",
      "\u001b[0;31mValueError\u001b[0m                                Traceback (most recent call last)",
      "Cell \u001b[0;32mIn[624], line 7\u001b[0m\n\u001b[1;32m      4\u001b[0m NUM_EPOCHS \u001b[38;5;241m=\u001b[39m \u001b[38;5;241m10\u001b[39m\n\u001b[1;32m      6\u001b[0m model \u001b[38;5;241m=\u001b[39m MyNN(IMG_SIZE \u001b[38;5;241m*\u001b[39m\u001b[38;5;241m*\u001b[39m \u001b[38;5;241m2\u001b[39m, NUM_CLASSES, HIDDEN_SIZE) \u001b[38;5;66;03m#.to(device)\u001b[39;00m\n\u001b[0;32m----> 7\u001b[0m optimizer \u001b[38;5;241m=\u001b[39m Adagrad(model\u001b[38;5;241m.\u001b[39mgetParameters())\n\u001b[1;32m      8\u001b[0m scheduler \u001b[38;5;241m=\u001b[39m \u001b[38;5;28;01mNone\u001b[39;00m\n\u001b[1;32m      9\u001b[0m criterion \u001b[38;5;241m=\u001b[39m nn\u001b[38;5;241m.\u001b[39mCrossEntropyLoss()  \u001b[38;5;66;03m# nn.NLLLoss()\u001b[39;00m\n",
      "Cell \u001b[0;32mIn[129], line 6\u001b[0m, in \u001b[0;36mAdagrad.__init__\u001b[0;34m(self, params, lr, eps)\u001b[0m\n\u001b[1;32m      4\u001b[0m \u001b[38;5;28mself\u001b[39m\u001b[38;5;241m.\u001b[39meps \u001b[38;5;241m=\u001b[39m eps\n\u001b[1;32m      5\u001b[0m \u001b[38;5;28mself\u001b[39m\u001b[38;5;241m.\u001b[39mparams \u001b[38;5;241m=\u001b[39m params\n\u001b[0;32m----> 6\u001b[0m \u001b[38;5;28mself\u001b[39m\u001b[38;5;241m.\u001b[39mG \u001b[38;5;241m=\u001b[39m [np\u001b[38;5;241m.\u001b[39mzeros_like(param) \u001b[38;5;28;01mfor\u001b[39;00m param \u001b[38;5;129;01min\u001b[39;00m \u001b[38;5;28mself\u001b[39m\u001b[38;5;241m.\u001b[39mparams]\n",
      "File \u001b[0;32m/opt/anaconda3/lib/python3.12/site-packages/numpy/core/numeric.py:129\u001b[0m, in \u001b[0;36mzeros_like\u001b[0;34m(a, dtype, order, subok, shape)\u001b[0m\n\u001b[1;32m     67\u001b[0m \u001b[38;5;129m@array_function_dispatch\u001b[39m(_zeros_like_dispatcher)\n\u001b[1;32m     68\u001b[0m \u001b[38;5;28;01mdef\u001b[39;00m \u001b[38;5;21mzeros_like\u001b[39m(a, dtype\u001b[38;5;241m=\u001b[39m\u001b[38;5;28;01mNone\u001b[39;00m, order\u001b[38;5;241m=\u001b[39m\u001b[38;5;124m'\u001b[39m\u001b[38;5;124mK\u001b[39m\u001b[38;5;124m'\u001b[39m, subok\u001b[38;5;241m=\u001b[39m\u001b[38;5;28;01mTrue\u001b[39;00m, shape\u001b[38;5;241m=\u001b[39m\u001b[38;5;28;01mNone\u001b[39;00m):\n\u001b[1;32m     69\u001b[0m \u001b[38;5;250m    \u001b[39m\u001b[38;5;124;03m\"\"\"\u001b[39;00m\n\u001b[1;32m     70\u001b[0m \u001b[38;5;124;03m    Return an array of zeros with the same shape and type as a given array.\u001b[39;00m\n\u001b[1;32m     71\u001b[0m \n\u001b[0;32m   (...)\u001b[0m\n\u001b[1;32m    127\u001b[0m \n\u001b[1;32m    128\u001b[0m \u001b[38;5;124;03m    \"\"\"\u001b[39;00m\n\u001b[0;32m--> 129\u001b[0m     res \u001b[38;5;241m=\u001b[39m empty_like(a, dtype\u001b[38;5;241m=\u001b[39mdtype, order\u001b[38;5;241m=\u001b[39morder, subok\u001b[38;5;241m=\u001b[39msubok, shape\u001b[38;5;241m=\u001b[39mshape)\n\u001b[1;32m    130\u001b[0m     \u001b[38;5;66;03m# needed instead of a 0 to get same result as zeros for string dtypes\u001b[39;00m\n\u001b[1;32m    131\u001b[0m     z \u001b[38;5;241m=\u001b[39m zeros(\u001b[38;5;241m1\u001b[39m, dtype\u001b[38;5;241m=\u001b[39mres\u001b[38;5;241m.\u001b[39mdtype)\n",
      "\u001b[0;31mValueError\u001b[0m: setting an array element with a sequence. The requested array has an inhomogeneous shape after 2 dimensions. The detected shape was (2, 64) + inhomogeneous part."
     ]
    }
   ],
   "source": [
    "IMG_SIZE = 28\n",
    "NUM_CLASSES = 10\n",
    "HIDDEN_SIZE = 64\n",
    "NUM_EPOCHS = 10\n",
    "\n",
    "model = MyNN(IMG_SIZE ** 2, NUM_CLASSES, HIDDEN_SIZE) \n",
    "optimizer = Adagrad(model.getParameters())\n",
    "scheduler = None\n",
    "criterion = nn.CrossEntropyLoss()  # nn.NLLLoss()\n",
    "train()"
   ]
  },
  {
   "cell_type": "code",
   "execution_count": null,
   "metadata": {},
   "outputs": [],
   "source": []
  }
 ],
 "metadata": {
  "colab": {
   "provenance": []
  },
  "kernelspec": {
   "display_name": "Python 3 (ipykernel)",
   "language": "python",
   "name": "python3"
  },
  "language_info": {
   "codemirror_mode": {
    "name": "ipython",
    "version": 3
   },
   "file_extension": ".py",
   "mimetype": "text/x-python",
   "name": "python",
   "nbconvert_exporter": "python",
   "pygments_lexer": "ipython3",
   "version": "3.12.4"
  }
 },
 "nbformat": 4,
 "nbformat_minor": 4
}
